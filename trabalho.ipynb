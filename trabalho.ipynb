{
 "cells": [
  {
   "cell_type": "code",
   "execution_count": 2,
   "outputs": [],
   "source": [
    "import numpy as np\n",
    "import pandas as pd\n",
    "import matplotlib.pyplot as plt"
   ],
   "metadata": {
    "collapsed": false,
    "ExecuteTime": {
     "end_time": "2023-10-16T02:28:46.274518438Z",
     "start_time": "2023-10-16T02:28:45.955778504Z"
    }
   },
   "id": "cc8c95b42ac29e40"
  },
  {
   "cell_type": "code",
   "execution_count": 22,
   "outputs": [
    {
     "data": {
      "text/plain": "         matricula  ano_ingresso  periodo_ingresso    id_curso  id_unidade  \\\n16     20230040309          2023                 1  10320810.0      4885.0   \n29     20230023498          2023                 1  10320810.0      4885.0   \n84     20230060320          2023                 2  10320810.0      4885.0   \n97     20230023694          2023                 1  10320810.0      4885.0   \n138    20230063869          2023                 1  10320810.0      4885.0   \n...            ...           ...               ...         ...         ...   \n16209  20230022839          2023                 1  10320810.0      4885.0   \n16221  20230023489          2023                 1  10320810.0      4885.0   \n16230  20230023148          2023                 1  10320810.0      4885.0   \n16238  20230095844          2023                 2  10320810.0      4885.0   \n16335  20230023317          2023                 1  10320810.0      4885.0   \n\n       id_unidade_gestora                          nome_discente sexo  \\\n16                  605.0         ABRAAO JACSON COSTA DE MENEZES    M   \n29                  605.0                ADAILDO COSTA DE ARAÚJO    M   \n84                  605.0         ADRIANA KALINE DA COSTA ARAUJO    F   \n97                  605.0         ADRIAN CARLOS JUVENAL DA SILVA    M   \n138                 605.0  ADRIELYSSON DARLYSON DA SILVA E SILVA    M   \n...                   ...                                    ...  ...   \n16209               605.0                 YAN ARAÚJO COSTA RAMOS    M   \n16221               605.0            YAN XAVIER LINDOLFO BARBOSA    M   \n16230               605.0                YASKARA MONTEFUSCO MOTA    F   \n16238               605.0            YASMIM FREIRE DO NASCIMENTO    F   \n16335               605.0   YURI LEVI NASCIMENTO RIBEIRO DE LIMA    M   \n\n      forma_ingresso tipo_discente status sigla_nivel_ensino nivel_ensino  \\\n16              SiSU       REGULAR  ATIVO                  G    GRADUAÇÃO   \n29              SiSU       REGULAR  ATIVO                  G    GRADUAÇÃO   \n84              SiSU       REGULAR  ATIVO                  G    GRADUAÇÃO   \n97              SiSU       REGULAR  ATIVO                  G    GRADUAÇÃO   \n138             SiSU       REGULAR  ATIVO                  G    GRADUAÇÃO   \n...              ...           ...    ...                ...          ...   \n16209           SiSU       REGULAR  ATIVO                  G    GRADUAÇÃO   \n16221           SiSU       REGULAR  ATIVO                  G    GRADUAÇÃO   \n16230           SiSU       REGULAR  ATIVO                  G    GRADUAÇÃO   \n16238           SiSU       REGULAR  ATIVO                  G    GRADUAÇÃO   \n16335           SiSU       REGULAR  ATIVO                  G    GRADUAÇÃO   \n\n                  nome_curso modalidade_educacao  \\\n16     CIÊNCIAS E TECNOLOGIA          PRESENCIAL   \n29     CIÊNCIAS E TECNOLOGIA          PRESENCIAL   \n84     CIÊNCIAS E TECNOLOGIA          PRESENCIAL   \n97     CIÊNCIAS E TECNOLOGIA          PRESENCIAL   \n138    CIÊNCIAS E TECNOLOGIA          PRESENCIAL   \n...                      ...                 ...   \n16209  CIÊNCIAS E TECNOLOGIA          PRESENCIAL   \n16221  CIÊNCIAS E TECNOLOGIA          PRESENCIAL   \n16230  CIÊNCIAS E TECNOLOGIA          PRESENCIAL   \n16238  CIÊNCIAS E TECNOLOGIA          PRESENCIAL   \n16335  CIÊNCIAS E TECNOLOGIA          PRESENCIAL   \n\n                          nome_unidade  \\\n16     ESCOLA DE CIÊNCIAS E TECNOLOGIA   \n29     ESCOLA DE CIÊNCIAS E TECNOLOGIA   \n84     ESCOLA DE CIÊNCIAS E TECNOLOGIA   \n97     ESCOLA DE CIÊNCIAS E TECNOLOGIA   \n138    ESCOLA DE CIÊNCIAS E TECNOLOGIA   \n...                                ...   \n16209  ESCOLA DE CIÊNCIAS E TECNOLOGIA   \n16221  ESCOLA DE CIÊNCIAS E TECNOLOGIA   \n16230  ESCOLA DE CIÊNCIAS E TECNOLOGIA   \n16238  ESCOLA DE CIÊNCIAS E TECNOLOGIA   \n16335  ESCOLA DE CIÊNCIAS E TECNOLOGIA   \n\n                              nome_unidade_gestora  \n16     UNIVERSIDADE FEDERAL DO RIO GRANDE DO NORTE  \n29     UNIVERSIDADE FEDERAL DO RIO GRANDE DO NORTE  \n84     UNIVERSIDADE FEDERAL DO RIO GRANDE DO NORTE  \n97     UNIVERSIDADE FEDERAL DO RIO GRANDE DO NORTE  \n138    UNIVERSIDADE FEDERAL DO RIO GRANDE DO NORTE  \n...                                            ...  \n16209  UNIVERSIDADE FEDERAL DO RIO GRANDE DO NORTE  \n16221  UNIVERSIDADE FEDERAL DO RIO GRANDE DO NORTE  \n16230  UNIVERSIDADE FEDERAL DO RIO GRANDE DO NORTE  \n16238  UNIVERSIDADE FEDERAL DO RIO GRANDE DO NORTE  \n16335  UNIVERSIDADE FEDERAL DO RIO GRANDE DO NORTE  \n\n[772 rows x 17 columns]",
      "text/html": "<div>\n<style scoped>\n    .dataframe tbody tr th:only-of-type {\n        vertical-align: middle;\n    }\n\n    .dataframe tbody tr th {\n        vertical-align: top;\n    }\n\n    .dataframe thead th {\n        text-align: right;\n    }\n</style>\n<table border=\"1\" class=\"dataframe\">\n  <thead>\n    <tr style=\"text-align: right;\">\n      <th></th>\n      <th>matricula</th>\n      <th>ano_ingresso</th>\n      <th>periodo_ingresso</th>\n      <th>id_curso</th>\n      <th>id_unidade</th>\n      <th>id_unidade_gestora</th>\n      <th>nome_discente</th>\n      <th>sexo</th>\n      <th>forma_ingresso</th>\n      <th>tipo_discente</th>\n      <th>status</th>\n      <th>sigla_nivel_ensino</th>\n      <th>nivel_ensino</th>\n      <th>nome_curso</th>\n      <th>modalidade_educacao</th>\n      <th>nome_unidade</th>\n      <th>nome_unidade_gestora</th>\n    </tr>\n  </thead>\n  <tbody>\n    <tr>\n      <th>16</th>\n      <td>20230040309</td>\n      <td>2023</td>\n      <td>1</td>\n      <td>10320810.0</td>\n      <td>4885.0</td>\n      <td>605.0</td>\n      <td>ABRAAO JACSON COSTA DE MENEZES</td>\n      <td>M</td>\n      <td>SiSU</td>\n      <td>REGULAR</td>\n      <td>ATIVO</td>\n      <td>G</td>\n      <td>GRADUAÇÃO</td>\n      <td>CIÊNCIAS E TECNOLOGIA</td>\n      <td>PRESENCIAL</td>\n      <td>ESCOLA DE CIÊNCIAS E TECNOLOGIA</td>\n      <td>UNIVERSIDADE FEDERAL DO RIO GRANDE DO NORTE</td>\n    </tr>\n    <tr>\n      <th>29</th>\n      <td>20230023498</td>\n      <td>2023</td>\n      <td>1</td>\n      <td>10320810.0</td>\n      <td>4885.0</td>\n      <td>605.0</td>\n      <td>ADAILDO COSTA DE ARAÚJO</td>\n      <td>M</td>\n      <td>SiSU</td>\n      <td>REGULAR</td>\n      <td>ATIVO</td>\n      <td>G</td>\n      <td>GRADUAÇÃO</td>\n      <td>CIÊNCIAS E TECNOLOGIA</td>\n      <td>PRESENCIAL</td>\n      <td>ESCOLA DE CIÊNCIAS E TECNOLOGIA</td>\n      <td>UNIVERSIDADE FEDERAL DO RIO GRANDE DO NORTE</td>\n    </tr>\n    <tr>\n      <th>84</th>\n      <td>20230060320</td>\n      <td>2023</td>\n      <td>2</td>\n      <td>10320810.0</td>\n      <td>4885.0</td>\n      <td>605.0</td>\n      <td>ADRIANA KALINE DA COSTA ARAUJO</td>\n      <td>F</td>\n      <td>SiSU</td>\n      <td>REGULAR</td>\n      <td>ATIVO</td>\n      <td>G</td>\n      <td>GRADUAÇÃO</td>\n      <td>CIÊNCIAS E TECNOLOGIA</td>\n      <td>PRESENCIAL</td>\n      <td>ESCOLA DE CIÊNCIAS E TECNOLOGIA</td>\n      <td>UNIVERSIDADE FEDERAL DO RIO GRANDE DO NORTE</td>\n    </tr>\n    <tr>\n      <th>97</th>\n      <td>20230023694</td>\n      <td>2023</td>\n      <td>1</td>\n      <td>10320810.0</td>\n      <td>4885.0</td>\n      <td>605.0</td>\n      <td>ADRIAN CARLOS JUVENAL DA SILVA</td>\n      <td>M</td>\n      <td>SiSU</td>\n      <td>REGULAR</td>\n      <td>ATIVO</td>\n      <td>G</td>\n      <td>GRADUAÇÃO</td>\n      <td>CIÊNCIAS E TECNOLOGIA</td>\n      <td>PRESENCIAL</td>\n      <td>ESCOLA DE CIÊNCIAS E TECNOLOGIA</td>\n      <td>UNIVERSIDADE FEDERAL DO RIO GRANDE DO NORTE</td>\n    </tr>\n    <tr>\n      <th>138</th>\n      <td>20230063869</td>\n      <td>2023</td>\n      <td>1</td>\n      <td>10320810.0</td>\n      <td>4885.0</td>\n      <td>605.0</td>\n      <td>ADRIELYSSON DARLYSON DA SILVA E SILVA</td>\n      <td>M</td>\n      <td>SiSU</td>\n      <td>REGULAR</td>\n      <td>ATIVO</td>\n      <td>G</td>\n      <td>GRADUAÇÃO</td>\n      <td>CIÊNCIAS E TECNOLOGIA</td>\n      <td>PRESENCIAL</td>\n      <td>ESCOLA DE CIÊNCIAS E TECNOLOGIA</td>\n      <td>UNIVERSIDADE FEDERAL DO RIO GRANDE DO NORTE</td>\n    </tr>\n    <tr>\n      <th>...</th>\n      <td>...</td>\n      <td>...</td>\n      <td>...</td>\n      <td>...</td>\n      <td>...</td>\n      <td>...</td>\n      <td>...</td>\n      <td>...</td>\n      <td>...</td>\n      <td>...</td>\n      <td>...</td>\n      <td>...</td>\n      <td>...</td>\n      <td>...</td>\n      <td>...</td>\n      <td>...</td>\n      <td>...</td>\n    </tr>\n    <tr>\n      <th>16209</th>\n      <td>20230022839</td>\n      <td>2023</td>\n      <td>1</td>\n      <td>10320810.0</td>\n      <td>4885.0</td>\n      <td>605.0</td>\n      <td>YAN ARAÚJO COSTA RAMOS</td>\n      <td>M</td>\n      <td>SiSU</td>\n      <td>REGULAR</td>\n      <td>ATIVO</td>\n      <td>G</td>\n      <td>GRADUAÇÃO</td>\n      <td>CIÊNCIAS E TECNOLOGIA</td>\n      <td>PRESENCIAL</td>\n      <td>ESCOLA DE CIÊNCIAS E TECNOLOGIA</td>\n      <td>UNIVERSIDADE FEDERAL DO RIO GRANDE DO NORTE</td>\n    </tr>\n    <tr>\n      <th>16221</th>\n      <td>20230023489</td>\n      <td>2023</td>\n      <td>1</td>\n      <td>10320810.0</td>\n      <td>4885.0</td>\n      <td>605.0</td>\n      <td>YAN XAVIER LINDOLFO BARBOSA</td>\n      <td>M</td>\n      <td>SiSU</td>\n      <td>REGULAR</td>\n      <td>ATIVO</td>\n      <td>G</td>\n      <td>GRADUAÇÃO</td>\n      <td>CIÊNCIAS E TECNOLOGIA</td>\n      <td>PRESENCIAL</td>\n      <td>ESCOLA DE CIÊNCIAS E TECNOLOGIA</td>\n      <td>UNIVERSIDADE FEDERAL DO RIO GRANDE DO NORTE</td>\n    </tr>\n    <tr>\n      <th>16230</th>\n      <td>20230023148</td>\n      <td>2023</td>\n      <td>1</td>\n      <td>10320810.0</td>\n      <td>4885.0</td>\n      <td>605.0</td>\n      <td>YASKARA MONTEFUSCO MOTA</td>\n      <td>F</td>\n      <td>SiSU</td>\n      <td>REGULAR</td>\n      <td>ATIVO</td>\n      <td>G</td>\n      <td>GRADUAÇÃO</td>\n      <td>CIÊNCIAS E TECNOLOGIA</td>\n      <td>PRESENCIAL</td>\n      <td>ESCOLA DE CIÊNCIAS E TECNOLOGIA</td>\n      <td>UNIVERSIDADE FEDERAL DO RIO GRANDE DO NORTE</td>\n    </tr>\n    <tr>\n      <th>16238</th>\n      <td>20230095844</td>\n      <td>2023</td>\n      <td>2</td>\n      <td>10320810.0</td>\n      <td>4885.0</td>\n      <td>605.0</td>\n      <td>YASMIM FREIRE DO NASCIMENTO</td>\n      <td>F</td>\n      <td>SiSU</td>\n      <td>REGULAR</td>\n      <td>ATIVO</td>\n      <td>G</td>\n      <td>GRADUAÇÃO</td>\n      <td>CIÊNCIAS E TECNOLOGIA</td>\n      <td>PRESENCIAL</td>\n      <td>ESCOLA DE CIÊNCIAS E TECNOLOGIA</td>\n      <td>UNIVERSIDADE FEDERAL DO RIO GRANDE DO NORTE</td>\n    </tr>\n    <tr>\n      <th>16335</th>\n      <td>20230023317</td>\n      <td>2023</td>\n      <td>1</td>\n      <td>10320810.0</td>\n      <td>4885.0</td>\n      <td>605.0</td>\n      <td>YURI LEVI NASCIMENTO RIBEIRO DE LIMA</td>\n      <td>M</td>\n      <td>SiSU</td>\n      <td>REGULAR</td>\n      <td>ATIVO</td>\n      <td>G</td>\n      <td>GRADUAÇÃO</td>\n      <td>CIÊNCIAS E TECNOLOGIA</td>\n      <td>PRESENCIAL</td>\n      <td>ESCOLA DE CIÊNCIAS E TECNOLOGIA</td>\n      <td>UNIVERSIDADE FEDERAL DO RIO GRANDE DO NORTE</td>\n    </tr>\n  </tbody>\n</table>\n<p>772 rows × 17 columns</p>\n</div>"
     },
     "execution_count": 22,
     "metadata": {},
     "output_type": "execute_result"
    }
   ],
   "source": [
    "dados = pd.read_csv('discentes-2023.csv', delimiter=';')\n",
    "dados = dados[dados['nome_curso'] == 'CIÊNCIAS E TECNOLOGIA']\n",
    "ativos = dados[dados['status'] == 'ATIVO']\n",
    "ativos"
   ],
   "metadata": {
    "collapsed": false,
    "ExecuteTime": {
     "end_time": "2023-10-16T02:37:03.690134032Z",
     "start_time": "2023-10-16T02:37:03.648129752Z"
    }
   },
   "id": "28cd37ef231b514c"
  },
  {
   "cell_type": "code",
   "execution_count": null,
   "outputs": [],
   "source": [],
   "metadata": {
    "collapsed": false
   },
   "id": "b204ed42c1dbf46e"
  }
 ],
 "metadata": {
  "kernelspec": {
   "display_name": "Python 3",
   "language": "python",
   "name": "python3"
  },
  "language_info": {
   "codemirror_mode": {
    "name": "ipython",
    "version": 2
   },
   "file_extension": ".py",
   "mimetype": "text/x-python",
   "name": "python",
   "nbconvert_exporter": "python",
   "pygments_lexer": "ipython2",
   "version": "2.7.6"
  }
 },
 "nbformat": 4,
 "nbformat_minor": 5
}
